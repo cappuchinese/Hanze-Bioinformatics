{
 "cells": [
  {
   "cell_type": "markdown",
   "metadata": {
    "deletable": false,
    "editable": false,
    "nbgrader": {
     "cell_type": "markdown",
     "checksum": "aa5abce0423b895e3ec88f68344aea26",
     "grade": false,
     "grade_id": "title",
     "locked": true,
     "schema_version": 3,
     "solution": false
    }
   },
   "source": [
    "![](hanze.png)\n",
    "# Tentamen Informatica 2"
   ]
  },
  {
   "cell_type": "markdown",
   "metadata": {
    "deletable": false,
    "editable": false,
    "nbgrader": {
     "cell_type": "markdown",
     "checksum": "44d6ab41bfe9472227b21835cfd023c1",
     "grade": false,
     "grade_id": "instructions",
     "locked": true,
     "schema_version": 3,
     "solution": false
    }
   },
   "source": [
    "- **Date/Time** 27/01/2020 08:30 - 10:00\n",
    "- **Teachers** FEFE/WERD\n",
    "- **Scanned by** HJUR\n",
    "- **Test size** 6 assignments\n",
    "- **Supplementary files**\n",
    "    - PyDoc\n",
    "    - Het bestand `sequence.txt` en het bestand `reads.fq`\n",
    "    - het script `submit_your_work` waarmee je de gemaakte opdrachten inlevert\n",
    "- **TO BE SUBMITTED**\n",
    "    - This notebook \n",
    "\n",
    "## Instructies\n",
    "\n",
    "Voor dit tentamen moet je ingelogd zijn als gast (password gast). Het tentamen bevat een aantal opdrachten. Iedere opdracht heeft 1 of meerdere code cellen in deze notebook. Telkens wanneer je `# YOUR CODE HERE` tegenkomt, wordt er input van jou verwacht.  \n",
    "Ook zie je een `raise NotImplementedError()` staan.  \n",
    "Deze moet je <b>vervangen</b> voor jouw code. Let op: de code moet in de eerste cel komen. Tweede witte cel is write protected.\n",
    "\n",
    "<b>Belangrijk:</b>\n",
    "In veel van de vragen is de code verpakt in een functie.  \n",
    "De functie is echter nog niet aangeroepen.  \n",
    "Dit moet je zelf nog doen!\n",
    "\n",
    "### Indienen\n",
    "Het gemaakte werk kan ingeleverd worden door het script\n",
    "`submit_your_work` te draaien in de Desktop directory als:  \n",
    "`submit_your_work STUDENTNR xxxxxx.ipynb`    \n",
    "Tip: sla je werk op de Desktop op. Dan kun je je werk indienen zoals hierboven beschreven.  \n",
    "Op een scherm worden de ingeleverde files per computer getoond zodat te zien is of je je werk daadwerkelijk hebt ingeleverd.  \n",
    "\n",
    "### Cijfer\n",
    "Het cijfer wordt als volgt berekend:  \n",
    "behaald aantal punten/totaal aantal punten * 9 + 1\n",
    "\n"
   ]
  },
  {
   "cell_type": "markdown",
   "metadata": {
    "deletable": false,
    "editable": false,
    "nbgrader": {
     "cell_type": "markdown",
     "checksum": "78d7a049ff951652ea74a96480646a82",
     "grade": false,
     "grade_id": "vraag01_txt",
     "locked": true,
     "schema_version": 3,
     "solution": false
    }
   },
   "source": [
    "### Vraag 1   [10 pt]\n",
    "\n",
    "Maak een functie die de file `sequentie.txt` inleest en bepaalt wat de header en sequentie zijn (header regel start met een >). Voeg aan de header regel de *lengte* van de sequentie zoals in het volgende voorbeeld `>1_20` toe. Sla de header + sequentie als key value paar op in een dictionary. Voorbeeld van een key-value paar: '>1_5': 'CTTTT''\n",
    "\n",
    "Retourneer je dictionary aan het eind."
   ]
  },
  {
   "cell_type": "code",
   "execution_count": null,
   "metadata": {
    "deletable": false,
    "nbgrader": {
     "cell_type": "code",
     "checksum": "077b0651aed4e737273ed9f380e4a850",
     "grade": false,
     "grade_id": "vraag01_que",
     "locked": false,
     "schema_version": 3,
     "solution": true
    }
   },
   "outputs": [],
   "source": [
    "file_name = 'sequentie.txt'\n",
    "\n",
    "def read_fasta(file_name):\n",
    "    try:\n",
    "        opened = open(file_name)\n",
    "    except FileNotFoundError:\n",
    "        print(\"File was not found\")\n",
    "\n",
    "    seq_dict = {}\n",
    "    for line in opened:\n",
    "        if line.startswith(\">\"):\n",
    "            header = line.strip()\n",
    "        else:\n",
    "            seq = line.strip()\n",
    "            header += f\"_{(len(seq))}\"\n",
    "\n",
    "        seq_dict[header] = seq\n",
    "\n",
    "    return seq_dict\n",
    "\n",
    "raise NotImplementedError()"
   ]
  },
  {
   "cell_type": "code",
   "execution_count": null,
   "metadata": {
    "deletable": false,
    "editable": false,
    "nbgrader": {
     "cell_type": "code",
     "checksum": "d26003d831825a619bebc6e2ed43397b",
     "grade": true,
     "grade_id": "vraag01_cor",
     "locked": true,
     "points": 10,
     "schema_version": 3,
     "solution": false
    }
   },
   "outputs": [],
   "source": []
  },
  {
   "cell_type": "markdown",
   "metadata": {
    "deletable": false,
    "editable": false,
    "nbgrader": {
     "cell_type": "markdown",
     "checksum": "7057fd530bef5df411871a99608f7338",
     "grade": false,
     "grade_id": "vraag02_txt",
     "locked": true,
     "schema_version": 3,
     "solution": false
    }
   },
   "source": [
    "### Vraag 2  [5 pt]\n",
    "\n",
    "Verander de functie genaamd `sum_of_squares` zo dat het een **variabel aantal argumenten** ontvangt en per argument de waarde van dat argument kwadrateert. Daarna moeten alle kwardraten weer opgeteld worden. Dat getal moet vervolgens geretourneerd worden. Dus `2,3,1` heeft als resultaat `14`.\n",
    "\n",
    "Test je functie met de argumenten reeks `1,2,3,4,5,0,6,8,9`.  \n",
    "Let op: print niet het totaal!\n"
   ]
  },
  {
   "cell_type": "code",
   "execution_count": null,
   "metadata": {
    "deletable": false,
    "nbgrader": {
     "cell_type": "code",
     "checksum": "56b50f4c7a960b13db03147d31c29551",
     "grade": false,
     "grade_id": "vraag02_que",
     "locked": false,
     "schema_version": 3,
     "solution": true
    }
   },
   "outputs": [],
   "source": [
    "def sum_of_squares():\n",
    "    pass \n",
    "    \n",
    "\n",
    "# YOUR CODE HERE\n",
    "raise NotImplementedError()\n"
   ]
  },
  {
   "cell_type": "code",
   "execution_count": null,
   "metadata": {
    "deletable": false,
    "editable": false,
    "nbgrader": {
     "cell_type": "code",
     "checksum": "004e91e4dd8556e45199ebbb7c852dec",
     "grade": true,
     "grade_id": "vraag02_corr",
     "locked": true,
     "points": 5,
     "schema_version": 3,
     "solution": false
    }
   },
   "outputs": [],
   "source": []
  },
  {
   "cell_type": "markdown",
   "metadata": {
    "deletable": false,
    "editable": false,
    "nbgrader": {
     "cell_type": "markdown",
     "checksum": "c425a227fb78de5e70ccf2087642c06e",
     "grade": false,
     "grade_id": "vraag03_txt",
     "locked": true,
     "schema_version": 3,
     "solution": false
    }
   },
   "source": [
    "### Vraag 3  [5 pt]\n",
    "Maak een *list comphrehension* die een string reverse complement maakt.  \n",
    "Gegeven de volgende forward string: `GGACCCTTT`  \n",
    "Zou dit de output moeten worden: `AAAGGGTCC`  \n",
    "sla de uitkomst op in een variable `rev_comp`\n"
   ]
  },
  {
   "cell_type": "code",
   "execution_count": null,
   "metadata": {
    "deletable": false,
    "nbgrader": {
     "cell_type": "code",
     "checksum": "c6587828399656a78ac0d6d6189b40d1",
     "grade": false,
     "grade_id": "vraag03_que",
     "locked": false,
     "schema_version": 3,
     "solution": true
    }
   },
   "outputs": [],
   "source": [
    "forward = \"GGACCCTTT\"\n",
    "\n",
    "# YOUR CODE HERE\n",
    "raise NotImplementedError()"
   ]
  },
  {
   "cell_type": "code",
   "execution_count": null,
   "metadata": {
    "deletable": false,
    "editable": false,
    "nbgrader": {
     "cell_type": "code",
     "checksum": "8c00c8b67119ee8ba81e834631701ddf",
     "grade": true,
     "grade_id": "vraag03_cor",
     "locked": true,
     "points": 5,
     "schema_version": 3,
     "solution": false
    }
   },
   "outputs": [],
   "source": []
  },
  {
   "cell_type": "markdown",
   "metadata": {
    "deletable": false,
    "editable": false,
    "nbgrader": {
     "cell_type": "markdown",
     "checksum": "06036e017213a01f44e6a43b8788dde4",
     "grade": false,
     "grade_id": "vraag04_txt",
     "locked": true,
     "schema_version": 3,
     "solution": false
    }
   },
   "source": [
    "### Vraag 4 [5 pt]\n",
    "Maak een *list comphrehension* die alle mogelijke codons (sequentie van 3 lang) van de 4 basen (a, c, t, en g) maakt.   \n",
    "Gebruik hiervoor de volgende lijst met basen:\n",
    "`bases = ['g', 'a', 't', 'c']`\n",
    "sla de uitkomst op in de variable `codons`\n",
    "\n",
    "De mogelijke uitkomsten zouden het volgende moeten zijn:  \n",
    "`['ggg', 'gga', 'ggt', 'ggc', 'gag', 'gaa', 'gat', 'gac', 'gtg', 'gta', 'gtt', 'gtc', 'gcg', 'gca', 'gct', 'gcc', 'agg', 'aga', 'agt', 'agc', 'aag', 'aaa', 'aat', 'aac', 'atg', 'ata', 'att', 'atc', 'acg', 'aca', 'act', 'acc', 'tgg', 'tga', 'tgt', 'tgc', 'tag', 'taa', 'tat', 'tac', 'ttg', 'tta', 'ttt', 'ttc', 'tcg', 'tca', 'tct', 'tcc', 'cgg', 'cga', 'cgt', 'cgc', 'cag', 'caa', 'cat', 'cac', 'ctg', 'cta', 'ctt', 'ctc', 'ccg', 'cca', 'cct', 'ccc']`"
   ]
  },
  {
   "cell_type": "code",
   "execution_count": null,
   "metadata": {
    "deletable": false,
    "nbgrader": {
     "cell_type": "code",
     "checksum": "076d22d7d5758d17605bc9522ef9ff87",
     "grade": false,
     "grade_id": "vraag04_que",
     "locked": false,
     "schema_version": 3,
     "solution": true
    }
   },
   "outputs": [],
   "source": [
    "bases = ['g', 'a', 't', 'c']\n",
    "\n",
    "# YOUR CODE HERE\n",
    "raise NotImplementedError()"
   ]
  },
  {
   "cell_type": "code",
   "execution_count": null,
   "metadata": {
    "deletable": false,
    "editable": false,
    "nbgrader": {
     "cell_type": "code",
     "checksum": "83fcbdf366a4cdb1195acadaa8badab4",
     "grade": true,
     "grade_id": "vraag04_corr",
     "locked": true,
     "points": 5,
     "schema_version": 3,
     "solution": false
    }
   },
   "outputs": [],
   "source": []
  },
  {
   "cell_type": "markdown",
   "metadata": {
    "deletable": false,
    "editable": false,
    "nbgrader": {
     "cell_type": "markdown",
     "checksum": "1c9cc1372463d37fdebfd3d26091914f",
     "grade": false,
     "grade_id": "vraag05_txt",
     "locked": true,
     "schema_version": 3,
     "solution": false
    }
   },
   "source": [
    "### Vraag 5    [10 pt]\n",
    "Haal de fouten uit het script hieronder. Er zitten syntax fouten in en symantische fouten. Zorg ervoor dat je de main functie uitgaat met exitcode 0. De drie quotes ''' voor het script en na het script behoren niet tot de fouten maar moet je wel weghalen om het script te kunnen debuggen. In totaal zijn het 10 fouten"
   ]
  },
  {
   "cell_type": "code",
   "execution_count": null,
   "metadata": {
    "deletable": false,
    "nbgrader": {
     "cell_type": "code",
     "checksum": "f0d7c73a3c44998056ab79ed40469fc6",
     "grade": false,
     "grade_id": "vraag05_que",
     "locked": false,
     "schema_version": 3,
     "solution": true
    }
   },
   "outputs": [],
   "source": [
    "'''\n",
    "#!/usr/env python3 \n",
    "\n",
    "\"\"\"\n",
    "This is a program that calculates\n",
    "- Phredscore (Ascii value - 33)\n",
    "- Accuracy: (exponent =(-1*numscore/10); Q = 1 - (10**exponent))\n",
    "\n",
    "input: a file with reads from a sequencer (default reads.fq)\n",
    "Each read constists of:\n",
    "\n",
    "A first line describing the machine it was run on, the chip identifier and\n",
    "-the actual coordinates from the chip where the base was read :@M01785:20:0...\n",
    "-The actual read sequence                    :NTCATGTACGGTCAGGATGG...\n",
    "-The plus sign                               :+\n",
    "-The predicted read base quality ASCII value :#>>1A1B3B11BAEFFBECA...\n",
    "\n",
    "The purpose is to read the line with the quality ASCII values (line after +)\n",
    "and calculates Phredscore and quality base\n",
    "\n",
    "The outcome of the test string #>>1A should be:\n",
    "\n",
    "Quality score: #>>1A\n",
    "Phredscore   :    2    |   29   |   29   |   16   |   32   |\n",
    "Accuracy     :  36.90% | 99.87% | 99.87% | 97.49% | 99.94% |\n",
    "\n",
    "\"\"\"\n",
    "\n",
    "__author__ = 'Fenna Feenstra'\n",
    "__version__ = '0.2'\n",
    "\n",
    "#imports\n",
    "import sys.argv \n",
    "\n",
    "#functions\n",
    "def phredScore(char):\n",
    "    \"\"\" this function scores the base by converting the ascii value to a\n",
    "    number and substract this with the offset \"\"\"\n",
    "    # correct this line\n",
    "    num_score = ord(char) - 30 \n",
    "    return num_score\n",
    "\n",
    "\n",
    "def base_call_accuracy(numscore):\n",
    "    \"\"\" this function calculates the quality percentage\"\"\"\n",
    "    exponent =(-1*numscore/10)\n",
    "    Q = 1 - (10**exponent)\n",
    "    return Q\n",
    "\n",
    "\n",
    "def fetch_read(file):\n",
    "    flag = False\n",
    "    with open(file) as f:\n",
    "    for line in f: \n",
    "            if flag = True: \n",
    "                return line.strip()\n",
    "            if line.startswith('+'):\n",
    "                flag = True\n",
    "    return 0\n",
    "\n",
    "\n",
    "def calc_phred_accur(sequence):\n",
    "    \"\"\" for each character in sequence calculate PhredScore and accuracy \"\"\"\n",
    "    #create empty lists\n",
    "    phreds = \"\"\n",
    "    accurs = \"\"\n",
    "    for character in sequence:\n",
    "        QS = base_call_accuracy(phredScore(character))\n",
    "        length = len(\" {.2%}\".format(QS)) -1 \n",
    "        phreds += \" {:^{length}} |\".format(phredScore(character), length=length)\n",
    "        accurs = \" {:.2%} |\".format(QS)\n",
    "    return (phreds, accurs) \n",
    "\n",
    "#main\n",
    "def main(args):\n",
    "    \"\"\" fetch file with reads from command line and\n",
    "        determine the phredscore and quality score\n",
    "    \"\"\"\n",
    "    sequence = '#>>1A1'\n",
    "    [phreds, accurs] = calc_phred_accur(sequence)\n",
    "    print(\"Quality score: {}\".format(sequence))\n",
    "    print(\"Phredscore   : {}\".format(phreds))\n",
    "    print(\"Accuracy     : {}\".format(accurs))\n",
    "    print(len(sequence))\n",
    "    return 0\n",
    "\n",
    "\n",
    "#entryppoint\n",
    "if __name__ == '__main__' \n",
    "    exitcode = main() \n",
    "    sys.exit(exitcode)\n",
    "\n",
    "'''  \n",
    "\n",
    "# YOUR CODE HERE\n",
    "raise NotImplementedError()"
   ]
  },
  {
   "cell_type": "code",
   "execution_count": null,
   "metadata": {
    "deletable": false,
    "editable": false,
    "nbgrader": {
     "cell_type": "code",
     "checksum": "78e8438f86e4544a6bab2c5ea9010dfc",
     "grade": true,
     "grade_id": "vraag05_corr",
     "locked": true,
     "points": 10,
     "schema_version": 3,
     "solution": false
    }
   },
   "outputs": [],
   "source": []
  },
  {
   "cell_type": "markdown",
   "metadata": {
    "deletable": false,
    "editable": false,
    "nbgrader": {
     "cell_type": "markdown",
     "checksum": "d51ab6cc64c3b97e430b2bcb35247599",
     "grade": false,
     "grade_id": "vraag06_txt",
     "locked": true,
     "schema_version": 3,
     "solution": false
    }
   },
   "source": [
    "### Vraag 6 [15 pt]\n",
    "Schrijf een programma volgens de standaard template die je geleerd hebt. Test het programma via de commandline. Als je programma het goed doet kopieer dan je script hieronder. Er moeten **tenminste twee functies** die een dna sequentie bewerken in je programma komen. Hieronder staan de twee functies die je minimaal moet maken:  \n",
    "\n",
    " 1. check of het dna valide is\n",
    " 2. Tel het aantal unieke codons van de valide sequenties\n",
    "\n",
    "Schrijf bij elke functie die je maakt een docstring. Geef de sequentie op via de commandline. Als er geen sequentie argument vanaf de commandline wordt meegegeven print dan de volledige documentatie van het script (dus inclusief de docstrings van alle functies)."
   ]
  },
  {
   "cell_type": "code",
   "execution_count": null,
   "metadata": {
    "deletable": false,
    "nbgrader": {
     "cell_type": "code",
     "checksum": "9d98555a9fdec81a18ac4a06cc8c6916",
     "grade": true,
     "grade_id": "vraag06_que",
     "locked": false,
     "points": 15,
     "schema_version": 3,
     "solution": true,
     "task": false
    }
   },
   "outputs": [],
   "source": [
    "\n",
    "# YOUR CODE HERE\n",
    "raise NotImplementedError()"
   ]
  }
 ],
 "metadata": {
  "kernelspec": {
   "display_name": "Python 3",
   "language": "python",
   "name": "python3"
  },
  "language_info": {
   "codemirror_mode": {
    "name": "ipython",
    "version": 3
   },
   "file_extension": ".py",
   "mimetype": "text/x-python",
   "name": "python",
   "nbconvert_exporter": "python",
   "pygments_lexer": "ipython3",
   "version": "3.7.4"
  }
 },
 "nbformat": 4,
 "nbformat_minor": 2
}