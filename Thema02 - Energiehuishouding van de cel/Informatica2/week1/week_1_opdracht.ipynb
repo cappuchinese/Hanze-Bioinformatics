{
 "cells": [
  {
   "cell_type": "markdown",
   "metadata": {},
   "source": [
    "# Week 1 Assignment\n",
    "\n",
    "Welcome to the first week assignment of informatics II. By now you finished the course informatics I. This week assignment is the first step in many more steps on the ladder of becoming a professional programmer. However, the learning curve of informatics II is still steep, so keep practising programming!\n",
    "\n",
    "In this week assignment you learn to apply a template based on the template proposed by Guido van Rossum (the author of Python). The template is introduced in a series of logical steps, in such a way that every step consists of three to five elements or lines of code. Three to five elements is easy to remember, which is nice, because YOU NEED TO KNOW THIS TEMPLATE BY HEART. Having a good default template is a great way to start off any program, and actually helps tackling the programming task at hand.\n",
    "\n",
    "Furthermore you learn to transfer a problem to an algoritm and finally to a python program. This is a daily job for every programmer. It is the challenge of finding the pattern in a phenomenom and catch it into an algorithm. \n",
    "\n",
    "When you upload your code to blackboard you will be reviewed on the following aspects\n",
    "\n",
    "- Is the code according the template\n",
    "- Is your code according coding style\n",
    "- Is the output of your programm correct\n",
    "- The program should not generate any error\n",
    "\n"
   ]
  },
  {
   "cell_type": "markdown",
   "metadata": {},
   "source": [
    "## Check your code\n",
    "\n",
    "Before submitting your code you can check your code using a lintr by typing in the commandline\n",
    "\n",
    "    pylint fibonacci.py"
   ]
  },
  {
   "cell_type": "markdown",
   "metadata": {},
   "source": [
    "## Exercise I: applying the template\n",
    "\n",
    "Below you find some code. Rewrite the code according the template. Use the file <a href =\"https://bioinf.nl/~fennaf/informatica2/2uv8a.pdb\">2uv8a.pdb</a> to test"
   ]
  },
  {
   "cell_type": "code",
   "execution_count": null,
   "metadata": {},
   "outputs": [],
   "source": [
    "#!/usr/bin/env python3\n",
    "\n",
    "import sys\n",
    "\n",
    "def calc_weight(atom):\n",
    "    weigth = 0\n",
    "    mass = {'C':12.011,\n",
    "            'N':14.007,\n",
    "            'O':15.998,\n",
    "            'P':30.974,\n",
    "            'S':32.065,\n",
    "            'H':1.008\n",
    "}\n",
    "    for element in atom:\n",
    "        if element in mass:\n",
    "             weigth += mass[element]\n",
    "        else:\n",
    "            print('not in table mass table')\n",
    "    return weigth\n",
    "\n",
    "\n",
    "def processfile(input_file_name):\n",
    "    f = open(input_file_name)\n",
    "    count = 0\n",
    "    for line in f:\n",
    "        if line.strip().startswith('ATOM'):\n",
    "            line = line[13:]\n",
    "            l = line.split(' ')\n",
    "            atom = l[0]\n",
    "            count += calc_weight(atom)\n",
    "    f.close()\n",
    "    return count\n",
    "\n",
    "\n",
    "def store_atomweigth(y, output_file_name):\n",
    "    o = open(output_file_name, 'w')\n",
    "    o.write('atomweigth:' + str(y) + '\\n')\n",
    "    o.close()\n",
    "\n",
    "argv = sys.argv \n",
    "if len(argv) < 3:\n",
    "    print(\"please provide the name of an input and an output file\")\n",
    "    print(\"Program stopping...\")\n",
    "    sys.exit()\n",
    "input_file_name = argv[1]\n",
    "output_file_name = argv[2]\n",
    "y = processfile(input_file_name, output_file_name)\n",
    "store_atomweigth(y,output_file_name)\n"
   ]
  },
  {
   "cell_type": "markdown",
   "metadata": {},
   "source": [
    "Name your script atomweight.py. Test your script with the following command **in the terminal on the command line**\n",
    "\n",
    "    atomweight.py 2uv8a.pdb out"
   ]
  },
  {
   "cell_type": "markdown",
   "metadata": {},
   "source": [
    "### Expected results:\n",
    "    atomweight:1133136.8670011158"
   ]
  },
  {
   "cell_type": "markdown",
   "metadata": {},
   "source": [
    "# Exercise II: Fibonacci\n",
    "\n",
    "The Fibonacci Sequence is the series of numbers:\n",
    "\n",
    "0, 1, 1, 2, 3, 5, 8, 13, 21, 34, ...\n",
    "\n",
    "Fibonacci sequence is characterized by the fact that every number after the first two is the sum of the two preceding ones. On the internet, you can find more documentation about this special sequence. Your challenge is to construct a piece of code hat prints out the Fibonacci sequence till a maximum number taken from the command line, at least 10 numbers long. The second number in the printed range should print a \"*\". \n",
    "\n",
    "for example a maximum of 2000 returns\n",
    "\n",
    "    [21, '*', 55, 89, 144, 233, 377, 610, 987, 1597]\n",
    "\n",
    "To conduct this challenge, you should first construct a flow chart on paper. Best is to start with a simple program starting the sequence from the beginning (0). Once you made a sketch of the flow chart you can translate the flowchart to pseudo code and finally to python code. Use the template provided on paper to structure your program. Be aware that there are many ways to come to a solution. Make sure that you understand your chosen solution. \n"
   ]
  },
  {
   "cell_type": "markdown",
   "metadata": {},
   "source": [
    "Name your script fibonacci.py. Test your script with the following commands **in the terminal on the command line**:"
   ]
  },
  {
   "cell_type": "code",
   "execution_count": null,
   "metadata": {},
   "outputs": [],
   "source": [
    ">>fibonacci.py 100\n",
    ">>fibonacci.py 3089\n",
    ">>fibonacci.py 20"
   ]
  },
  {
   "cell_type": "markdown",
   "metadata": {},
   "source": [
    "### Expected results:"
   ]
  },
  {
   "cell_type": "markdown",
   "metadata": {},
   "source": [
    "    [1, '*', 3, 5, 8, 13, 21, 34, 55, 89]\n",
    "    [34, '*', 89, 144, 233, 377, 610, 987, 1597, 2584]\n",
    "    your provided maximum is too low, please enter a higher number"
   ]
  }
 ],
 "metadata": {
  "kernelspec": {
   "display_name": "Python 3",
   "language": "python",
   "name": "python3"
  },
  "language_info": {
   "codemirror_mode": {
    "name": "ipython",
    "version": 3
   },
   "file_extension": ".py",
   "mimetype": "text/x-python",
   "name": "python",
   "nbconvert_exporter": "python",
   "pygments_lexer": "ipython3",
   "version": "3.8.5"
  }
 },
 "nbformat": 4,
 "nbformat_minor": 4
}
