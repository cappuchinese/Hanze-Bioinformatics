{
 "cells": [
  {
   "cell_type": "markdown",
   "metadata": {},
   "source": [
    "# Week 2 Assignment\n",
    "\n",
    "Welcome to the second week assignment of informatics II. By now you learned about applying the template. This week we will continue using the template. A template can be helpful if you set up a program from scratch. The assignment of this week is to design and code a python program from scratch. You will apply all the things you learn from informatics I and the things you learned last week. \n",
    "\n",
    "### Assignment\n",
    "\n",
    "Your job is to write a script that does the following:\n",
    "\n",
    "- Counts either nuclioted or amino acids and reports this\n",
    "- Report whether it concerns nucleotides or amino acids\n",
    "- It can read any number of FASTA files (via commandline)\n",
    "- Calculate the nucleotide composition (number of GATCs) and print it\n",
    "- Calculate G-C percentage and report it\n",
    "\n",
    "\n",
    "See also https://bioinf.nl/~fennaf/informatica2/WC02_IO.html\n",
    "\n",
    "\n",
    "When you upload your script to blackboard you will be reviewed on the following aspects\n",
    "\n",
    "- Is the code according the template\n",
    "- Is your code according coding style\n",
    "- Is the output of your programm correct\n",
    "- The program should not generate any error\n",
    "\n",
    "\n",
    "### Check your code\n",
    "\n",
    "Before submitting your code you can check your code using a lintr by typing in the commandline\n",
    "\n",
    "    pylint IO2.py\n"
   ]
  },
  {
   "cell_type": "markdown",
   "metadata": {},
   "source": [
    "### Test your code"
   ]
  },
  {
   "cell_type": "markdown",
   "metadata": {},
   "source": [
    "Test your code with the following files:\n",
    "\n",
    "    IO2.py BRCA1_DNA.fasta BRCA1_protein.fasta BRCA1_mRNA.fasta\n",
    "\n",
    "The outcome should be similar to the outcome below"
   ]
  },
  {
   "cell_type": "markdown",
   "metadata": {},
   "source": [
    "    ['IO2.py', 'BRCA1_DNA.fasta', 'BRCA1_protein.fasta', 'BRCA1_mRNA.fasta']\n",
    "\n",
    "    this is a nucleotides fasta file\n",
    "    A:22779 C:16955 T:23556 G:17899\n",
    "    CG:42.32422586520947\n",
    "\n",
    "    this is a protein fasta file\n",
    "    amino acids:1891\n",
    "\n",
    "    this is a nucleotides fasta file\n",
    "    A:2412 C:1403 T:1789 G:1620\n",
    "    CG:41.247100559421476"
   ]
  },
  {
   "cell_type": "markdown",
   "metadata": {},
   "source": [
    "Mind you that the program should also deal with no arguments. It should for instance primt the documentation or a message \"please provide a file argument\""
   ]
  }
 ],
 "metadata": {
  "kernelspec": {
   "display_name": "Python 3",
   "language": "python",
   "name": "python3"
  },
  "language_info": {
   "codemirror_mode": {
    "name": "ipython",
    "version": 3
   },
   "file_extension": ".py",
   "mimetype": "text/x-python",
   "name": "python",
   "nbconvert_exporter": "python",
   "pygments_lexer": "ipython3",
   "version": "3.8.1"
  }
 },
 "nbformat": 4,
 "nbformat_minor": 4
}
