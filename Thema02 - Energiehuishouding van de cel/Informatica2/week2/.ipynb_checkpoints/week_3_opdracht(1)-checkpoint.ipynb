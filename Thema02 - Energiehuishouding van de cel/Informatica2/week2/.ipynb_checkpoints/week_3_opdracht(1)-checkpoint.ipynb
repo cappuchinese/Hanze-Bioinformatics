{
 "cells": [
  {
   "cell_type": "markdown",
   "metadata": {},
   "source": [
    "# Week 3 Assignment\n",
    "\n",
    "Sometimes you might want to define a function that can take any number of parameters, i.e. variable number of arguments, this can be achieved by using the stars `*args`. Note ANY value or number of values can be passed to the function. This week you will practise using the `*args` parameter in a function\n",
    "\n",
    "\n",
    "## Assignment\n",
    "\n",
    "Submit a python file args.py here that will take arbitrary arguments from the commandline and print them backwards. To do this, use a `function` with Varargs arguments `(* args) `. Use the template.\n",
    "\n",
    "\n",
    "When you upload your script to blackboard you will be reviewed on the following aspects\n",
    "\n",
    "- Is the code according the template\n",
    "- Is varargs argument used to solve the problem\n",
    "- Is your code according coding style\n",
    "- Is the output of your programm correct\n",
    "- The program should not generate any error\n",
    "\n",
    "## Test your code\n",
    "\n",
    "You can test with any sentence. The following sentence is an example. \n",
    "\n",
    "    args.py roetveeg piet ik hoor je wel maar ik zie je niet\n",
    "\n"
   ]
  },
  {
   "cell_type": "markdown",
   "metadata": {},
   "source": [
    "    1 niet\n",
    "\n",
    "    2 je\n",
    "\n",
    "    3 zie\n",
    "\n",
    "    4 ik\n",
    "\n",
    "    5 maar\n",
    "\n",
    "    6 wel\n",
    "\n",
    "    7 je\n",
    "\n",
    "    8 hoor\n",
    "\n",
    "    9 ik\n",
    "\n",
    "    10 piet\n",
    "\n",
    "    11 roetveeg\n",
    "\n",
    "    12 args.py"
   ]
  }
 ],
 "metadata": {
  "kernelspec": {
   "display_name": "Python 3",
   "language": "python",
   "name": "python3"
  },
  "language_info": {
   "codemirror_mode": {
    "name": "ipython",
    "version": 3
   },
   "file_extension": ".py",
   "mimetype": "text/x-python",
   "name": "python",
   "nbconvert_exporter": "python",
   "pygments_lexer": "ipython3",
   "version": "3.8.5"
  }
 },
 "nbformat": 4,
 "nbformat_minor": 4
}
